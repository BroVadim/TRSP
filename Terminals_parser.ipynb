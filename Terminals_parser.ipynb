{
 "cells": [
  {
   "cell_type": "markdown",
   "id": "864e4a63",
   "metadata": {},
   "source": [
    "Рейтинг сайтов для отзывов\n",
    "iRecommend.ru — один из крупнейших сайтов отзывов в России и СНГ. Тут уже добавлено огромное количество\n",
    "предприятий и товаров.\n",
    "migReview.com — сервис позволяет оставить отзыв о компаниях, товарах, местах, еде, сайтах и многом другом в один клик.\n",
    "otzovik.com — большая база уже написанных отзывов и разделов, но часто отзывы удаляют.\n",
    "booking.com — крупнейший сервис с отзывами об отелях.\n",
    "flamp.ru — проект от 2GIS, отзывы в основном про места и заведения.\n",
    "market.yandex.ru — маркетплейс от яндекса с отзывами о товарах и интернет-магазинах подойдет лучше всего.\n",
    "torg.mail.ru — еще один маркетплейс от крупного холдинга Майл.ру, по сути аналог Яндекс.Маркета.\n",
    "yell.ru — сервис с отзывами о местах\n",
    "torg.mail.ru — еще один маркетплейс от крупного холдинга Майл.ру, по сути аналог Яндекс.Маркета.\n",
    "zoon.ru — на данном сайте в основном пишут отзывы о заведениях и местах"
   ]
  },
  {
   "cell_type": "code",
   "execution_count": null,
   "id": "28247ce2",
   "metadata": {},
   "outputs": [],
   "source": [
    "import re\n",
    "import urllib.parse\n",
    "import requests"
   ]
  },
  {
   "cell_type": "code",
   "execution_count": null,
   "id": "126ff6de",
   "metadata": {},
   "outputs": [],
   "source": [
    "goods_list = [\n",
    "    'AISINO A90','AQIS 5T 4G',\n",
    "    'AQSI 5Ф','EVOTOR 5',\n",
    "    'EVOTOR 72','EVOTOR 73',\n",
    "    'САЛЮТ 12Ф'\n",
    "]"
   ]
  },
  {
   "cell_type": "code",
   "execution_count": null,
   "id": "fb0a0786",
   "metadata": {},
   "outputs": [],
   "source": [
    "USER_AGENT = \"Mozilla/5.0 (Macintosh; Intel Mac OS X 10.14; rv:65.0) Gecko/20100101 Firefox/65.0\""
   ]
  },
  {
   "cell_type": "code",
   "execution_count": null,
   "id": "9e7bd23a",
   "metadata": {},
   "outputs": [],
   "source": [
    "def parse_search_page(good_name, description_phrase):\n",
    "    URL = \"https://google.com/search?q={0}\".format(\n",
    "        urllib.parse.quote_plus(good_name + ' ' + description_phrase)\n",
    "    )\n",
    "    resp = requests.get(\n",
    "        URL,\n",
    "        headers={\"user-agent\": USER_AGENT}\n",
    "    )\n",
    "    response = str(resp.text) if resp.status_code==200 else \"\"\n",
    "    with open('{}.html'.format(good_name),'w',encoding='utf-8') as file:\n",
    "        file.write(resp.text)\n",
    "    return response"
   ]
  },
  {
   "cell_type": "code",
   "execution_count": null,
   "id": "98bddf25",
   "metadata": {},
   "outputs": [],
   "source": [
    "goods_links = dict()\n",
    "for good in goods_list:\n",
    "    res_text = parse_search_page(good, 'отзывы пользователей')\n",
    "    soup = BeautifulSoup(res_text, 'lxml')\n",
    "    res_links = [link.get('href') for link in soup.find_all('a') if str(link.get('href')).find('http')>-1]\n",
    "    goods_links[good] = res_links"
   ]
  },
  {
   "cell_type": "code",
   "execution_count": null,
   "id": "a4841c87",
   "metadata": {},
   "outputs": [],
   "source": [
    "goods_links"
   ]
  },
  {
   "cell_type": "code",
   "execution_count": null,
   "id": "ffb0120d",
   "metadata": {},
   "outputs": [],
   "source": []
  },
  {
   "cell_type": "code",
   "execution_count": null,
   "id": "457aa438",
   "metadata": {},
   "outputs": [],
   "source": []
  },
  {
   "cell_type": "code",
   "execution_count": null,
   "id": "d6204726",
   "metadata": {},
   "outputs": [],
   "source": [
    "!pip install selenium"
   ]
  },
  {
   "cell_type": "code",
   "execution_count": 1,
   "id": "4457983f",
   "metadata": {},
   "outputs": [],
   "source": [
    "import warnings\n",
    "warnings.filterwarnings('ignore')\n",
    "from selenium import webdriver\n",
    "from selenium.webdriver.common.keys import Keys"
   ]
  },
  {
   "cell_type": "code",
   "execution_count": 2,
   "id": "3ed2b3cc",
   "metadata": {},
   "outputs": [],
   "source": [
    "driver = webdriver.Firefox('C:\\\\Driver')"
   ]
  },
  {
   "cell_type": "code",
   "execution_count": 3,
   "id": "165956e4",
   "metadata": {},
   "outputs": [],
   "source": [
    "link = 'https://otzovik.com/'\n",
    "driver.get(link)"
   ]
  },
  {
   "cell_type": "code",
   "execution_count": 7,
   "id": "838d72aa",
   "metadata": {},
   "outputs": [],
   "source": [
    "product_name = 'aqsi'"
   ]
  },
  {
   "cell_type": "code",
   "execution_count": 8,
   "id": "2da4a350",
   "metadata": {},
   "outputs": [],
   "source": [
    "input_element = driver.find_element_by_id('header-search-input')\n",
    "input_element.send_keys(product_name)\n"
   ]
  },
  {
   "cell_type": "code",
   "execution_count": 9,
   "id": "39cee6c0",
   "metadata": {},
   "outputs": [],
   "source": [
    "button = driver.find_element_by_xpath('//*[@id=\"header\"]/div[2]/div/form/div/input[2]')\n",
    "button.click()"
   ]
  },
  {
   "cell_type": "code",
   "execution_count": 14,
   "id": "a0f79b28",
   "metadata": {},
   "outputs": [],
   "source": [
    "goods_pages = driver.find_elements_by_class_name('reviews-counter')"
   ]
  },
  {
   "cell_type": "code",
   "execution_count": 16,
   "id": "beb31491",
   "metadata": {},
   "outputs": [
    {
     "name": "stdout",
     "output_type": "stream",
     "text": [
      "https://otzovik.com/reviews/kassa_aqsi_5/\n",
      "https://otzovik.com/reviews/kkassa_aqsi/\n"
     ]
    }
   ],
   "source": [
    "for good in goods_pages:\n",
    "    print(good.get_attribute(\"href\"))"
   ]
  },
  {
   "cell_type": "code",
   "execution_count": null,
   "id": "dfed1d63",
   "metadata": {},
   "outputs": [],
   "source": [
    "def first_page(link):\n",
    "    "
   ]
  },
  {
   "cell_type": "code",
   "execution_count": null,
   "id": "1055b03b",
   "metadata": {},
   "outputs": [],
   "source": [
    "reviews_pages = []\n",
    "# second step\n",
    "def parse_page(link):\n",
    "    driver.get(link)\n",
    "    elements = driver.find_elements_by_class_name('item-right')\n",
    "    for element in elements:\n",
    "        reviews_pages.append(element.find_element_by_class_name('review-title').get_attribute(\"href\"))\n",
    "    next_page = driver.find_elements_by_css_selector('.pager-item.next.tooltip-top')\n",
    "    if next_page:\n",
    "        parse_page(next_page[0].get_attribute(\"href\"))    "
   ]
  },
  {
   "cell_type": "code",
   "execution_count": null,
   "id": "04ff64c4",
   "metadata": {},
   "outputs": [],
   "source": [
    "parse_page('https://otzovik.com/reviews/kassa_aqsi_5/')"
   ]
  },
  {
   "cell_type": "code",
   "execution_count": null,
   "id": "41691ea9",
   "metadata": {},
   "outputs": [],
   "source": [
    "reviews_pages"
   ]
  },
  {
   "cell_type": "code",
   "execution_count": null,
   "id": "df35c879",
   "metadata": {},
   "outputs": [],
   "source": [
    "def parse_review(review_page_link):\n",
    "    driver.get(review_page_link)\n",
    "    element = driver.find_element_by_class_name(\"review-contents\")\n",
    "    title = element.find_element_by_tag_name('h1').text\n",
    "    review_date = element.find_element_by_class_name('postdate-line').text\n",
    "    plus = element.find_element_by_class_name('review-plus').text\n",
    "    minus = element.find_element_by_class_name('review-minus').text\n",
    "    description = element.find_element_by_css_selector('.review-body.description').text\n",
    "    print('{0}\\n{1}\\n{2}\\n{3}\\n{4}'.format(title, review_date, plus, minus, description))"
   ]
  },
  {
   "cell_type": "code",
   "execution_count": null,
   "id": "3287eea6",
   "metadata": {},
   "outputs": [],
   "source": [
    "parse_review('https://otzovik.com/review_8982658.html')"
   ]
  },
  {
   "cell_type": "code",
   "execution_count": null,
   "id": "aa48bdd0",
   "metadata": {},
   "outputs": [],
   "source": []
  },
  {
   "cell_type": "code",
   "execution_count": null,
   "id": "35a343f5",
   "metadata": {},
   "outputs": [],
   "source": []
  },
  {
   "cell_type": "code",
   "execution_count": null,
   "id": "f3ed62bd",
   "metadata": {},
   "outputs": [],
   "source": [
    "driver.quit()"
   ]
  }
 ],
 "metadata": {
  "kernelspec": {
   "display_name": "Python 3",
   "language": "python",
   "name": "python3"
  },
  "language_info": {
   "codemirror_mode": {
    "name": "ipython",
    "version": 3
   },
   "file_extension": ".py",
   "mimetype": "text/x-python",
   "name": "python",
   "nbconvert_exporter": "python",
   "pygments_lexer": "ipython3",
   "version": "3.8.1"
  }
 },
 "nbformat": 4,
 "nbformat_minor": 5
}
