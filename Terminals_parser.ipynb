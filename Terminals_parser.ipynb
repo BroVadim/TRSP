{
 "cells": [
  {
   "cell_type": "markdown",
   "id": "864e4a63",
   "metadata": {},
   "source": [
    "Рейтинг сайтов для отзывов\n",
    "iRecommend.ru — один из крупнейших сайтов отзывов в России и СНГ. Тут уже добавлено огромное количество\n",
    "предприятий и товаров.\n",
    "migReview.com — сервис позволяет оставить отзыв о компаниях, товарах, местах, еде, сайтах и многом другом в один клик.\n",
    "otzovik.com — большая база уже написанных отзывов и разделов, но часто отзывы удаляют.\n",
    "booking.com — крупнейший сервис с отзывами об отелях.\n",
    "flamp.ru — проект от 2GIS, отзывы в основном про места и заведения.\n",
    "market.yandex.ru — маркетплейс от яндекса с отзывами о товарах и интернет-магазинах подойдет лучше всего.\n",
    "torg.mail.ru — еще один маркетплейс от крупного холдинга Майл.ру, по сути аналог Яндекс.Маркета.\n",
    "yell.ru — сервис с отзывами о местах\n",
    "torg.mail.ru — еще один маркетплейс от крупного холдинга Майл.ру, по сути аналог Яндекс.Маркета.\n",
    "zoon.ru — на данном сайте в основном пишут отзывы о заведениях и местах"
   ]
  },
  {
   "cell_type": "code",
   "execution_count": null,
   "id": "5ef436e0",
   "metadata": {},
   "outputs": [],
   "source": [
    "import pyodbc\n",
    "import re"
   ]
  },
  {
   "cell_type": "code",
   "execution_count": null,
   "id": "28247ce2",
   "metadata": {},
   "outputs": [],
   "source": [
    "import re\n",
    "import urllib.parse\n",
    "import requests"
   ]
  },
  {
   "cell_type": "code",
   "execution_count": null,
   "id": "126ff6de",
   "metadata": {},
   "outputs": [],
   "source": [
    "goods_list = [\n",
    "    'AISINO A90','AQIS 5T 4G',\n",
    "    'AQSI 5Ф','EVOTOR 5',\n",
    "    'EVOTOR 72','EVOTOR 73',\n",
    "    'САЛЮТ 12Ф'\n",
    "]"
   ]
  },
  {
   "cell_type": "code",
   "execution_count": null,
   "id": "fb0a0786",
   "metadata": {},
   "outputs": [],
   "source": [
    "USER_AGENT = \"Mozilla/5.0 (Macintosh; Intel Mac OS X 10.14; rv:65.0) Gecko/20100101 Firefox/65.0\""
   ]
  },
  {
   "cell_type": "code",
   "execution_count": null,
   "id": "9e7bd23a",
   "metadata": {},
   "outputs": [],
   "source": [
    "def parse_search_page(good_name, description_phrase):\n",
    "    URL = \"https://google.com/search?q={0}\".format(\n",
    "        urllib.parse.quote_plus(good_name + ' ' + description_phrase)\n",
    "    )\n",
    "    resp = requests.get(\n",
    "        URL,\n",
    "        headers={\"user-agent\": USER_AGENT}\n",
    "    )\n",
    "    response = str(resp.text) if resp.status_code==200 else \"\"\n",
    "    with open('{}.html'.format(good_name),'w',encoding='utf-8') as file:\n",
    "        file.write(resp.text)\n",
    "    return response"
   ]
  },
  {
   "cell_type": "code",
   "execution_count": null,
   "id": "98bddf25",
   "metadata": {},
   "outputs": [],
   "source": [
    "goods_links = dict()\n",
    "for good in goods_list:\n",
    "    res_text = parse_search_page(good, 'отзывы пользователей')\n",
    "    soup = BeautifulSoup(res_text, 'lxml')\n",
    "    res_links = [link.get('href') for link in soup.find_all('a') if str(link.get('href')).find('http')>-1]\n",
    "    goods_links[good] = res_links"
   ]
  },
  {
   "cell_type": "code",
   "execution_count": null,
   "id": "a4841c87",
   "metadata": {},
   "outputs": [],
   "source": [
    "goods_links"
   ]
  },
  {
   "cell_type": "code",
   "execution_count": null,
   "id": "ffb0120d",
   "metadata": {},
   "outputs": [],
   "source": []
  },
  {
   "cell_type": "code",
   "execution_count": null,
   "id": "457aa438",
   "metadata": {},
   "outputs": [],
   "source": []
  },
  {
   "cell_type": "code",
   "execution_count": null,
   "id": "d6204726",
   "metadata": {},
   "outputs": [],
   "source": [
    "!pip install selenium"
   ]
  },
  {
   "cell_type": "code",
   "execution_count": 1,
   "id": "4457983f",
   "metadata": {},
   "outputs": [],
   "source": [
    "import warnings\n",
    "warnings.filterwarnings('ignore')\n",
    "from selenium import webdriver\n",
    "from selenium.webdriver.common.keys import Keys"
   ]
  },
  {
   "cell_type": "code",
   "execution_count": 2,
   "id": "3ed2b3cc",
   "metadata": {},
   "outputs": [],
   "source": [
    "driver = webdriver.Firefox('C:\\\\Driver')"
   ]
  },
  {
   "cell_type": "code",
   "execution_count": 3,
   "id": "c045131b",
   "metadata": {},
   "outputs": [],
   "source": [
    "def get_reviews_pages_links(start_link, product_name):\n",
    "    # открываю стартовую страницу с помощью WebDriver\n",
    "    driver.get(start_link)\n",
    "    # нахожу поле ввода для поиска отзывов\n",
    "    input_element = driver.find_element_by_id('header-search-input')\n",
    "    # имитирую ввод интересующей информации в поле ввода\n",
    "    input_element.send_keys(product_name)\n",
    "    # нахожу кнопку для выполнения поиска\n",
    "    button = driver.find_element_by_xpath('//*[@id=\"header\"]/div[2]/div/form/div/input[2]')\n",
    "    # имитирую нажатие на кнопку\n",
    "    button.click()\n",
    "    # когда произведен переход на страницу с результатами поиска отсекаю рекламу\n",
    "    goods_reviews_elements = driver.find_elements_by_class_name('reviews-counter')\n",
    "    # сохраняю ссылки на страницы с отзывами\n",
    "    reviews_pages_links = [good.get_attribute(\"href\") for good in goods_reviews_elements]\n",
    "    return reviews_pages_links"
   ]
  },
  {
   "cell_type": "code",
   "execution_count": 4,
   "id": "1055b03b",
   "metadata": {},
   "outputs": [],
   "source": [
    "reviews_links = []\n",
    "def get_reviews_links(link):\n",
    "    driver.get(link)\n",
    "    # определяем элементы соответствующие превью отзыва\n",
    "    elements = driver.find_elements_by_class_name('item-right')\n",
    "    # проходим по элементам превью и собираем ссылки\n",
    "    for element in elements:\n",
    "        reviews_links.append(element.find_element_by_class_name('review-title').get_attribute(\"href\"))\n",
    "    # после сбора ссылок на странице, проверяем, есть ли еще страницы, если да - запускаем рекурсию\n",
    "    next_page = driver.find_elements_by_css_selector('.pager-item.next.tooltip-top')\n",
    "    if next_page:\n",
    "        get_reviews_links(next_page[0].get_attribute(\"href\"))"
   ]
  },
  {
   "cell_type": "code",
   "execution_count": 12,
   "id": "df35c879",
   "metadata": {},
   "outputs": [],
   "source": [
    "def parse_review(review_page_link):\n",
    "    driver.get(review_page_link)\n",
    "    element = driver.find_element_by_class_name(\"review-contents\")\n",
    "    # заголовок отзыва\n",
    "    title = element.find_element_by_tag_name('h1').text.strip()\n",
    "    # дата публикации отзыва\n",
    "    review_date = element.find_element_by_class_name('postdate-line').text.split('\\n')[0].strip()\n",
    "    # положительные стороны товара\n",
    "    plus = element.find_element_by_class_name('review-plus').text.strip()\n",
    "    # отрицательные стороны товара\n",
    "    minus = element.find_element_by_class_name('review-minus').text.strip()\n",
    "    # текст отзыва\n",
    "    description = element.find_element_by_css_selector('.review-body.description').text.strip()\n",
    "    return title, review_date, plus, minus, description "
   ]
  },
  {
   "cell_type": "code",
   "execution_count": null,
   "id": "e2246b98",
   "metadata": {},
   "outputs": [],
   "source": []
  },
  {
   "cell_type": "code",
   "execution_count": null,
   "id": "de9ae4db",
   "metadata": {},
   "outputs": [],
   "source": [
    "connection_string = 'Driver={SQL Server Native Client 11.0};Server=DESKTOP-R9VI2A2\\SQLEXPRESS;Database=replace_val;Trusted_Connection=yes;'"
   ]
  },
  {
   "cell_type": "code",
   "execution_count": null,
   "id": "9264cc2e",
   "metadata": {},
   "outputs": [],
   "source": [
    "def create_db_structure(self, connection_string, dbn):\n",
    "    try:\n",
    "        if not os.path.exists(\"C:\\Databases\"):\n",
    "            os.mkdir(\"C:\\Databases\")\n",
    "        f_connection = pyodbc.connect(re.sub('replace_val','master', connection_string), autocommit=True)\n",
    "        createDbRequest = \"\"\"CREATE DATABASE {0} ON PRIMARY (NAME=N'{1}',FILENAME=N'C:\\\\Databases\\\\{2}.mdf') LOG ON (NAME=N'{3}_log',FILENAME=N'C:\\\\Databases\\\\{4}_log.ldf')\"\"\".format(dbn, dbn, dbn, dbn, dbn)\n",
    "        with f_connection:\n",
    "            f_cursor = f_connection.cursor()\n",
    "            f_cursor.execute(createDbRequest)\n",
    "        s_connection = pyodbc.connect(re.sub('replace_val', dbn, connection_string), autocommit=True)\n",
    "        createTableRequest = \"\"\"CREATE TABLE postsInfo(groupID int,postID int,postDate datetime,postText nvarchar(max),postStatus bit)\"\"\"\n",
    "        with s_connection:\n",
    "            s_cursor = s_connection.cursor()\n",
    "            s_cursor.execute(createTableRequest)        \n",
    "    except Exception as error:\n",
    "        print(\"Method failed with error:\" + str(error))"
   ]
  },
  {
   "cell_type": "code",
   "execution_count": null,
   "id": "34ddbf46",
   "metadata": {},
   "outputs": [],
   "source": []
  },
  {
   "cell_type": "code",
   "execution_count": null,
   "id": "7dfa3334",
   "metadata": {},
   "outputs": [],
   "source": [
    "def insertDataInCommentsInfo(self,commentId,commentatorId,postID,postDate,commentText):\n",
    "    try:\n",
    "        sqlString = \"\"\"\n",
    "        INSERT INTO commentsInfo (commentId,commentatorId,postID,postDate,commentText,userStatus,textStatus) VALUES(?,?,?,?,?,0,0)\"\"\"\n",
    "        connection = pyodbc.connect(connectionString)\n",
    "        dbCursor = connection.cursor()\n",
    "        dbCursor.execute(sqlString, commentId,commentId,commentatorId,postID,postDate,re.sub('\\n',' ',commentText))\n",
    "        connection.commit()\n",
    "        connection.close()\n",
    "    except Exception as error:\n",
    "        print(\"Error in insertDataInCommentsInfo \" +str(error))"
   ]
  },
  {
   "cell_type": "code",
   "execution_count": null,
   "id": "3889ff38",
   "metadata": {},
   "outputs": [],
   "source": []
  },
  {
   "cell_type": "code",
   "execution_count": 6,
   "id": "838d72aa",
   "metadata": {},
   "outputs": [],
   "source": [
    "link = 'https://otzovik.com/'\n",
    "product_name = 'aqsi'"
   ]
  },
  {
   "cell_type": "code",
   "execution_count": 7,
   "id": "88ec0005",
   "metadata": {},
   "outputs": [],
   "source": [
    "# найти ссылки страниц со списком отзывов\n",
    "reviews_pages_links = get_reviews_pages_links(link, product_name)"
   ]
  },
  {
   "cell_type": "code",
   "execution_count": 8,
   "id": "485e212e",
   "metadata": {},
   "outputs": [],
   "source": [
    "# найти ссылки страниц с отзывами\n",
    "for review_page_link in reviews_pages_links:\n",
    "    get_reviews_links(review_page_link)"
   ]
  },
  {
   "cell_type": "code",
   "execution_count": 13,
   "id": "c7375e60",
   "metadata": {},
   "outputs": [
    {
     "name": "stdout",
     "output_type": "stream",
     "text": [
      "Message: TimedPromise timed out after 300000 ms\n",
      "Stacktrace:\n",
      "WebDriverError@chrome://remote/content/shared/webdriver/Errors.jsm:183:5\n",
      "TimeoutError@chrome://remote/content/shared/webdriver/Errors.jsm:472:5\n",
      "bail@chrome://remote/content/marionette/sync.js:227:19\n",
      "\n"
     ]
    }
   ],
   "source": [
    "# загрузить отзывы\n",
    "with open('reviews.csv','w') as reviews_file:\n",
    "    for link in reviews_links:\n",
    "        try:\n",
    "            title, review_date, plus, minus, description  = parse_review(link)\n",
    "            reviews_file.write('{0};{1};{2};{3};{4};\\n'.format(title, review_date, plus, minus, description))\n",
    "        except Exception as error:\n",
    "            print(error)"
   ]
  },
  {
   "cell_type": "code",
   "execution_count": null,
   "id": "aa48bdd0",
   "metadata": {},
   "outputs": [],
   "source": [
    "driver.quit()"
   ]
  }
 ],
 "metadata": {
  "kernelspec": {
   "display_name": "Python 3",
   "language": "python",
   "name": "python3"
  },
  "language_info": {
   "codemirror_mode": {
    "name": "ipython",
    "version": 3
   },
   "file_extension": ".py",
   "mimetype": "text/x-python",
   "name": "python",
   "nbconvert_exporter": "python",
   "pygments_lexer": "ipython3",
   "version": "3.8.1"
  }
 },
 "nbformat": 4,
 "nbformat_minor": 5
}
